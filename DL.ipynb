{
 "cells": [
  {
   "cell_type": "code",
   "execution_count": null,
   "metadata": {},
   "outputs": [],
   "source": [
    "import numpy as np\n",
    "import random\n",
    "\n",
    "class MyFirstRL:\n",
    "\n",
    "    def __init__(self, n, rewards, probs, flag):\n",
    "        self.n = n\n",
    "        self.probs = probs\n",
    "        self.rewards = rewards\n",
    "        self.flag = flag\n",
    "\n",
    "    def choose_one_greedy(self):\n",
    "        explore = random.random()\n",
    "        if explore < 0.01:\n",
    "            return np.random.randint(0, 10)\n",
    "        rewards_mean = [np.mean(i) for i in self.rewards]\n",
    "        return np.argmax(rewards_mean)\n",
    "    \n",
    "    def choose_one_improv_greedy(self):\n",
    "        explore = random.random()\n",
    "        total_play = sum(len(i) for i in self.rewards)\n",
    "        if explore < 1/total_play:\n",
    "            return np.random.randint(0, 10)\n",
    "        rewards_mean = [np.mean(i) for i in self.rewards]\n",
    "        return np.argmax(rewards_mean)\n",
    "\n",
    "    def try_and_play(self):\n",
    "        if self.flag == \"greedy\":\n",
    "            choice = self.choose_one_greedy()\n",
    "        elif self.flag == \"improv_greedy\":\n",
    "            choice = self.choose_one_improv_greedy()\n",
    "        prob = np.random.uniform()\n",
    "        #print('choice: ', choice)\n",
    "        if prob < self.probs[choice]:\n",
    "            self.rewards[choice].append(1)\n",
    "        else:\n",
    "            self.rewards[choice].append(0)\n",
    "\n",
    "    def get_result(self):\n",
    "        for _ in range(self.n):\n",
    "            self.try_and_play()\n",
    "        EXCEPT_MAX_REWARD = self.n * max(self.probs)\n",
    "        PLAY_MAX_REWADR = sum(sum(i) for i in self.rewards) - 10\n",
    "        return EXCEPT_MAX_REWARD, PLAY_MAX_REWADR, np.array([np.mean(i) for i in self.rewards])\n",
    "\n",
    "flag = [\"greedy\", \"improv_greedy\"]\n",
    "for j in range(2):\n",
    "    n = 1000\n",
    "    prob = np.random.uniform(size=10)\n",
    "    reward = [[1] for _ in range(10)]\n",
    "    P1 = MyFirstRL(n = n, probs=prob, rewards=reward, flag=flag[j])\n",
    "    a1, b1, c1 = P1.get_result()\n",
    "    print(a1, b1, '\\n', c1, '\\n')"
   ]
  },
  {
   "cell_type": "code",
   "execution_count": 1,
   "metadata": {},
   "outputs": [],
   "source": [
    "import gym\n",
    "\n",
    "def load_agent():\n",
    "    pass\n",
    "\n",
    "env = gym.make(\"Taxi-v3\")\n",
    "observation = env.reset()\n",
    "agent = load_agent()\n",
    "for step in range(100):\n",
    "    action = agent(observation)\n",
    "    observation, reward, done, info = env.step(action)"
   ]
  },
  {
   "cell_type": "code",
   "execution_count": 3,
   "metadata": {},
   "outputs": [
    {
     "name": "stderr",
     "output_type": "stream",
     "text": [
      "d:\\Anaconda2\\envs\\DL\\lib\\site-packages\\gym\\utils\\passive_env_checker.py:233: DeprecationWarning: `np.bool8` is a deprecated alias for `np.bool_`.  (Deprecated NumPy 1.24)\n",
      "  if not isinstance(terminated, (bool, np.bool8)):\n"
     ]
    }
   ],
   "source": [
    "import gym\n",
    "\n",
    "env = gym.make('CartPole-v1', render_mode=\"human\")\n",
    "env.reset()\n",
    "for _ in range(1000):\n",
    "    env.render()\n",
    "    action = env.action_space.sample()\n",
    "    #env.step(action)\n",
    "    observation, reward, done, info, _ = env.step(env.action_space.sample())\n",
    "    if done:\n",
    "        env.reset()\n",
    "env.close()"
   ]
  },
  {
   "cell_type": "code",
   "execution_count": 2,
   "metadata": {},
   "outputs": [
    {
     "name": "stdout",
     "output_type": "stream",
     "text": [
      "['CartPole-v0', 'CartPole-v1', 'MountainCar-v0', 'MountainCarContinuous-v0', 'Pendulum-v1', 'Acrobot-v1', 'LunarLander-v2', 'LunarLanderContinuous-v2', 'BipedalWalker-v3', 'BipedalWalkerHardcore-v3', 'CarRacing-v2', 'Blackjack-v1', 'FrozenLake-v1', 'FrozenLake8x8-v1', 'CliffWalking-v0', 'Taxi-v3', 'Reacher-v2', 'Reacher-v4', 'Pusher-v2', 'Pusher-v4', 'InvertedPendulum-v2', 'InvertedPendulum-v4', 'InvertedDoublePendulum-v2', 'InvertedDoublePendulum-v4', 'HalfCheetah-v2', 'HalfCheetah-v3', 'HalfCheetah-v4', 'Hopper-v2', 'Hopper-v3', 'Hopper-v4', 'Swimmer-v2', 'Swimmer-v3', 'Swimmer-v4', 'Walker2d-v2', 'Walker2d-v3', 'Walker2d-v4', 'Ant-v2', 'Ant-v3', 'Ant-v4', 'Humanoid-v2', 'Humanoid-v3', 'Humanoid-v4', 'HumanoidStandup-v2', 'HumanoidStandup-v4']\n"
     ]
    },
    {
     "name": "stderr",
     "output_type": "stream",
     "text": [
      "d:\\Anaconda2\\envs\\DL\\lib\\site-packages\\gym\\envs\\registration.py:421: UserWarning: \u001b[33mWARN: The `registry.all` method is deprecated. Please use `registry.values` instead.\u001b[0m\n",
      "  logger.warn(\n"
     ]
    }
   ],
   "source": [
    "from gym import envs\n",
    "\n",
    "env_specs = envs.registry.all()\n",
    "envs_ids = [env_spec.id for env_spec in env_specs]\n",
    "print(envs_ids)"
   ]
  },
  {
   "cell_type": "code",
   "execution_count": 1,
   "metadata": {},
   "outputs": [
    {
     "name": "stdout",
     "output_type": "stream",
     "text": [
      "观测空间 = Box([-1.2  -0.07], [0.6  0.07], (2,), float32)\n",
      "动作空间 = Discrete(3)\n",
      "观测范围 = [-1.2  -0.07] ~ [0.6  0.07]\n",
      "动作数 = 3\n"
     ]
    }
   ],
   "source": [
    "import gym\n",
    "\n",
    "env = gym.make('MountainCar-v0')\n",
    "\n",
    "print('观测空间 = {}'. format(env.observation_space))\n",
    "print('动作空间 = {}'. format(env.action_space))\n",
    "print('观测范围 = {} ~ {}'. format(env.observation_space.low, \n",
    "                               env.observation_space.high))\n",
    "print('动作数 = {}'.format(env.action_space.n))\n",
    "                            "
   ]
  },
  {
   "cell_type": "code",
   "execution_count": 1,
   "metadata": {},
   "outputs": [],
   "source": [
    "class SimpleAgent:\n",
    "    def __init__(self, env):\n",
    "        pass\n",
    "    def decide(self, observation): # 决策\n",
    "        position, velocity = observation\n",
    "        lb = min(-0.09 * (position + 0.25) ** 2 + 0.03, \n",
    "                 0.3 * (position + 0.9) ** 4 - 0.008)\n",
    "        ub = -0.07 * (position + 0.38) ** 2 + 0.07\n",
    "        if lb < velocity < ub:\n",
    "            action = 2\n",
    "        else:\n",
    "            action = 0\n",
    "        return action # 返回动作\n",
    "    \n",
    "    def learn(self, *args): # 学习\n",
    "        pass"
   ]
  },
  {
   "cell_type": "code",
   "execution_count": 2,
   "metadata": {},
   "outputs": [],
   "source": [
    "def play(env, agent, render=False, train=False):\n",
    "    episode_reward = 0. # 记录回合总奖励，初始值为0\n",
    "    observation = env.reset() # 重置游戏环境，开始新回合\n",
    "    while True: # 不断循环，直到回合结束\n",
    "        if render: # 判断是否显示\n",
    "            env.render() # 显示图形界面\n",
    "        action = agent.decide(observation)\n",
    "        next_observation, reward, done, _ = env.step(action) # 执行动作\n",
    "        episode_reward += reward # 收集回合奖励\n",
    "        if train: # 判断是否训练智能体\n",
    "            agent.learn(observation, action, reward, done) # 学习\n",
    "        if done: # 回合结束，跳出循环\n",
    "            break\n",
    "        observation = next_observation\n",
    "    return episode_reward # 返回回合总奖励"
   ]
  },
  {
   "cell_type": "code",
   "execution_count": 8,
   "metadata": {},
   "outputs": [
    {
     "name": "stdout",
     "output_type": "stream",
     "text": [
      "回合奖励 = -105.0\n"
     ]
    }
   ],
   "source": [
    "import gym\n",
    "\n",
    "env = gym.make('MountainCar-v0')\n",
    "#env.seed(3) # 设置随机种子，让结果可复现\n",
    "agent = SimpleAgent(env)\n",
    "episode_reward = play(env, agent, render=True)\n",
    "print('回合奖励 = {}'. format(episode_reward))\n",
    "env.close()"
   ]
  },
  {
   "cell_type": "code",
   "execution_count": null,
   "metadata": {},
   "outputs": [],
   "source": []
  }
 ],
 "metadata": {
  "kernelspec": {
   "display_name": "base",
   "language": "python",
   "name": "python3"
  },
  "language_info": {
   "codemirror_mode": {
    "name": "ipython",
    "version": 3
   },
   "file_extension": ".py",
   "mimetype": "text/x-python",
   "name": "python",
   "nbconvert_exporter": "python",
   "pygments_lexer": "ipython3",
   "version": "3.9.18"
  },
  "orig_nbformat": 4
 },
 "nbformat": 4,
 "nbformat_minor": 2
}
